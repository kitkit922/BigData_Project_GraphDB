{
 "cells": [
  {
   "cell_type": "markdown",
   "metadata": {},
   "source": [
    "# Question 5\n",
    "\n",
    "- Implement K-mean clustering against Driver.\n"
   ]
  },
  {
   "cell_type": "markdown",
   "metadata": {},
   "source": [
    "## Install packages\n"
   ]
  },
  {
   "cell_type": "code",
   "execution_count": 6,
   "metadata": {},
   "outputs": [],
   "source": [
    "# %pip install -r requirements.txt\n",
    "# %pip install neo4j\n",
    "# %pip install graphdatascience"
   ]
  },
  {
   "cell_type": "markdown",
   "metadata": {},
   "source": [
    "---\n"
   ]
  },
  {
   "cell_type": "markdown",
   "metadata": {},
   "source": [
    "## Parameters\n"
   ]
  },
  {
   "cell_type": "code",
   "execution_count": 7,
   "metadata": {},
   "outputs": [],
   "source": [
    "URI = \"neo4j://localhost\"\n",
    "DATABASE = \"neo4j\"\n",
    "USERNAME = \"neo4j\"\n",
    "PWD = \"Neo4j1234\"\n",
    "AUTH = ((USERNAME, PWD))"
   ]
  },
  {
   "cell_type": "markdown",
   "metadata": {},
   "source": [
    "---"
   ]
  },
  {
   "cell_type": "markdown",
   "metadata": {},
   "source": [
    "## Establish Connection\n"
   ]
  },
  {
   "cell_type": "markdown",
   "metadata": {},
   "source": [
    "- Test Connection\n"
   ]
  },
  {
   "cell_type": "code",
   "execution_count": 8,
   "metadata": {},
   "outputs": [
    {
     "name": "stdout",
     "output_type": "stream",
     "text": [
      "Connect success.\n"
     ]
    }
   ],
   "source": [
    "from neo4j import GraphDatabase\n",
    "\n",
    "with GraphDatabase.driver(URI, auth=(USERNAME, PWD)) as driver:\n",
    "    try:\n",
    "        driver.verify_connectivity()\n",
    "        print(\"Connect success.\")\n",
    "    except Exception as e:\n",
    "        print(f\"Error: \\n{e}\")"
   ]
  },
  {
   "cell_type": "markdown",
   "metadata": {},
   "source": [
    "---\n"
   ]
  },
  {
   "cell_type": "markdown",
   "metadata": {},
   "source": [
    "## Clustering\n",
    "\n",
    "- Cypher script\n"
   ]
  },
  {
   "cell_type": "code",
   "execution_count": 9,
   "metadata": {},
   "outputs": [],
   "source": [
    "process_born = \"\"\"\n",
    "// 0-data process\n",
    "MATCH (d:Driver)\n",
    "SET d._born =[toFloat(d.born)]\n",
    "RETURN d\n",
    "\"\"\"\n",
    "\n",
    "drop_graph = \"\"\"\n",
    "// 1--drop graph\n",
    "CALL gds.graph.drop(\"graph_driver_cluster\") YIELD graphName\n",
    "\"\"\"\n",
    "\n",
    "create_graph = \"\"\"\n",
    "// 1-create graph\n",
    "CALL gds.graph.project(\n",
    "    'graph_driver_cluster',\n",
    "    {\n",
    "      Driver: {\n",
    "        properties: '_born'\n",
    "      }\n",
    "    },\n",
    "    '*'\n",
    ")\n",
    "\"\"\"\n",
    "\n",
    "k_mean = \"\"\"\n",
    "// 2-k-mean\n",
    "CALL gds.kmeans.stream(\n",
    "    'graph_driver_cluster', \n",
    "    {\n",
    "        nodeProperty: '_born',\n",
    "        k: 3,\n",
    "        randomSeed: 42\n",
    "    }\n",
    ")\n",
    "YIELD nodeId, communityId\n",
    "RETURN \n",
    "    gds.util.asNode(nodeId).name AS Driver,\n",
    "    gds.util.asNode(nodeId).born AS Year,\n",
    "    communityId\n",
    "ORDER BY communityId, Year, Driver ASC\n",
    "\"\"\""
   ]
  },
  {
   "cell_type": "code",
   "execution_count": 10,
   "metadata": {},
   "outputs": [
    {
     "name": "stdout",
     "output_type": "stream",
     "text": [
      "0\t 1976\t Mark Webber\n",
      "0\t 1979\t Kimi Raikkonen\n",
      "0\t 1980\t Jenson Button\n",
      "0\t 1981\t Felipe Massa\n",
      "0\t 1981\t Fernando Alonso\n",
      "0\t 1981\t Heikki Kovalainen\n",
      "1\t 1989\t Daniel Ricciardo\n",
      "1\t 1989\t Jules Bianchi\n",
      "1\t 1989\t Valtteri Bottas\n",
      "1\t 1990\t Charles Pic\n",
      "1\t 1990\t Jean-Éric Vergne\n",
      "1\t 1990\t Sergio Pérez\n",
      "1\t 1991\t Esteban Gutiérrez\n",
      "1\t 1991\t Max Chilton\n",
      "2\t 1983\t Adrian Sutil\n",
      "2\t 1985\t Giedo van der Garde\n",
      "2\t 1985\t Lewis Hamilton\n",
      "2\t 1985\t Nico Rosberg\n",
      "2\t 1985\t Pastor Maldonado\n",
      "2\t 1986\t Paul di Resta\n",
      "2\t 1986\t Romain Grosjean\n",
      "2\t 1987\t Nico Hülkenberg\n",
      "2\t 1987\t Sebastian Vettel\n"
     ]
    }
   ],
   "source": [
    "with GraphDatabase.driver(URI, auth=(USERNAME, PWD)) as driver:\n",
    "    # Execute the PageRank algorithm\n",
    "    with driver.session() as session:\n",
    "        session.run(process_born)       # process born\n",
    "        # session.run(drop_graph)         # drop_graph\n",
    "        session.run(create_graph)       # create_graph\n",
    "        \n",
    "        result = session.run(k_mean)\n",
    "        \n",
    "        for record in result:\n",
    "            print(f\"{record['communityId']}\\t {record['Year']}\\t {record['Driver']}\")"
   ]
  }
 ],
 "metadata": {
  "kernelspec": {
   "display_name": "env",
   "language": "python",
   "name": "python3"
  },
  "language_info": {
   "codemirror_mode": {
    "name": "ipython",
    "version": 3
   },
   "file_extension": ".py",
   "mimetype": "text/x-python",
   "name": "python",
   "nbconvert_exporter": "python",
   "pygments_lexer": "ipython3",
   "version": "3.11.5"
  }
 },
 "nbformat": 4,
 "nbformat_minor": 2
}
